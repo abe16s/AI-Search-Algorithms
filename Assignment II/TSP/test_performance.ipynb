{
 "cells": [
  {
   "cell_type": "code",
   "execution_count": 2,
   "metadata": {},
   "outputs": [],
   "source": [
    "from genetic_algorithm import *\n",
    "from simulated_annealing import *\n",
    "\n",
    "\n",
    "import time\n",
    "import numpy as np\n",
    "import matplotlib.pyplot as plt\n",
    "\n",
    "import argparse\n",
    "from graph import UndirectedGraph\n",
    "from hill_climbing import hill_climbing\n",
    "from simulated_annealing import simulated_annealing\n",
    "from genetic_algorithm import genetic_algorithm\n",
    "import utils\n",
    "\n",
    "\n",
    "%matplotlib inline"
   ]
  },
  {
   "cell_type": "code",
   "execution_count": 3,
   "metadata": {},
   "outputs": [],
   "source": [
    "def cities_and_graph(file_name):\n",
    "    graph = UndirectedGraph()\n",
    "    with open(file_name) as file:\n",
    "        cities = set()\n",
    "        for line in file.readlines()[1:]:\n",
    "            city_1, city_2, distance = line.split(\"    \")\n",
    "\n",
    "            distance = int(distance)\n",
    "\n",
    "            graph.add_edge(city_1, city_2, distance)\n",
    "            cities.add(city_1)\n",
    "            cities.add(city_2)\n",
    "\n",
    "        cities = list(cities)\n",
    "\n",
    "        return cities, graph\n",
    "        \n",
    "\n"
   ]
  },
  {
   "cell_type": "code",
   "execution_count": 17,
   "metadata": {},
   "outputs": [],
   "source": [
    "def test_genetic_algorithm(cities, graph, n_iters=15):\n",
    "    best_solution = None\n",
    "    best_solution_score = float(\"inf\")\n",
    "\n",
    "    average_runtime = 0\n",
    "\n",
    "    for _ in range(n_iters):\n",
    "        start_time = time.perf_counter()\n",
    "\n",
    "\n",
    "        solution, solution_score = genetic_algorithm(cities= cities ,graph=graph, population_size= 150, percent=0.7, generation=200)\n",
    "\n",
    "        end_time = time.perf_counter()\n",
    "\n",
    "        average_runtime += end_time - start_time\n",
    "\n",
    "        \n",
    "        if solution_score < best_solution_score:\n",
    "            best_solution = solution\n",
    "            best_solution_score = solution_score\n",
    "\n",
    "    average_runtime /= n_iters\n",
    "\n",
    "    return average_runtime, best_solution, best_solution_score"
   ]
  },
  {
   "cell_type": "code",
   "execution_count": 9,
   "metadata": {},
   "outputs": [],
   "source": [
    "\n",
    "def test_simulated_annealing(cities, graph, generation, n_iters=15):\n",
    "    best_solution = None\n",
    "    best_solution_score = float(\"inf\")\n",
    "\n",
    "    average_runtime = 0\n",
    "\n",
    "    for _ in range(n_iters):\n",
    "        start_time = time.perf_counter()\n",
    "\n",
    "        solution, solution_score = simulated_annealing(cities, graph, generation)\n",
    "\n",
    "        end_time = time.perf_counter()\n",
    "\n",
    "        average_runtime += end_time - start_time\n",
    "\n",
    "        \n",
    "        if solution_score < best_solution_score:\n",
    "            best_solution = solution\n",
    "            best_solution_score = solution_score\n",
    "\n",
    "    average_runtime /= n_iters\n",
    "\n",
    "    return average_runtime, best_solution, best_solution_score\n"
   ]
  },
  {
   "cell_type": "code",
   "execution_count": 24,
   "metadata": {},
   "outputs": [],
   "source": [
    "\n",
    "def test():\n",
    "    filenames = [\"8_romania.txt\", \"16_romania.txt\", \"0_romania.txt\"]\n",
    "\n",
    "    result = {} \n",
    "\n",
    "    for filename in filenames:\n",
    "        print(f\"Running test on {filename}\")\n",
    "        cities, graph = cities_and_graph(filename)\n",
    "\n",
    "        # hc_time, _, hc_score = test_hill_climbing(problem, max_capacity)\n",
    "        sa_time, _, sa_score = test_simulated_annealing(cities, graph, 1000)\n",
    "        ga_time, _, ga_score = test_genetic_algorithm(cities, graph)\n",
    "\n",
    "        result[int(filename.split(\"_\")[0])] = {\n",
    "            # \"HC.\": [hc_time, hc_score],\n",
    "            \"SA.\": [sa_time, sa_score],\n",
    "            \"GA.\": [ga_time, ga_score]\n",
    "        }\n",
    "\n",
    "        print(\"\\n%20s    Time(s)   Value\" % \"Algorithm\")\n",
    "        print(\"=============================================\")\n",
    "        # print(\"%20s    %.2f s   %.2f $\" % (\"Hill climbing\", hc_time, hc_score))\n",
    "        print(\"%20s    %.2f s   %.2f $\" % (\"Simulated annealing\", sa_time, sa_score))\n",
    "        print(\"%20s    %.2f s   %.2f $\" % (\"Genetic algorithm\", ga_time, ga_score))\n",
    "        print(\"\\n\")\n",
    "\n",
    "    return result\n"
   ]
  },
  {
   "cell_type": "code",
   "execution_count": 22,
   "metadata": {},
   "outputs": [
    {
     "name": "stdout",
     "output_type": "stream",
     "text": [
      "Running test on 8_romania.txt\n"
     ]
    },
    {
     "ename": "KeyboardInterrupt",
     "evalue": "",
     "output_type": "error",
     "traceback": [
      "\u001b[1;31m---------------------------------------------------------------------------\u001b[0m",
      "\u001b[1;31mKeyboardInterrupt\u001b[0m                         Traceback (most recent call last)",
      "Cell \u001b[1;32mIn[22], line 1\u001b[0m\n\u001b[1;32m----> 1\u001b[0m result \u001b[38;5;241m=\u001b[39m \u001b[43mtest\u001b[49m\u001b[43m(\u001b[49m\u001b[43m)\u001b[49m\n",
      "Cell \u001b[1;32mIn[19], line 12\u001b[0m, in \u001b[0;36mtest\u001b[1;34m()\u001b[0m\n\u001b[0;32m     10\u001b[0m \u001b[38;5;66;03m# hc_time, _, hc_score = test_hill_climbing(problem, max_capacity)\u001b[39;00m\n\u001b[0;32m     11\u001b[0m sa_time, _, sa_score \u001b[38;5;241m=\u001b[39m test_simulated_annealing(cities, graph, \u001b[38;5;241m1000\u001b[39m)\n\u001b[1;32m---> 12\u001b[0m ga_time, _, ga_score \u001b[38;5;241m=\u001b[39m \u001b[43mtest_genetic_algorithm\u001b[49m\u001b[43m(\u001b[49m\u001b[43mcities\u001b[49m\u001b[43m,\u001b[49m\u001b[43m \u001b[49m\u001b[43mgraph\u001b[49m\u001b[43m)\u001b[49m\n\u001b[0;32m     14\u001b[0m \u001b[38;5;66;03m# result[int(filename.split(\"_\")[0])] = {\u001b[39;00m\n\u001b[0;32m     15\u001b[0m \u001b[38;5;66;03m#     # \"HC.\": [hc_time, hc_score],\u001b[39;00m\n\u001b[0;32m     16\u001b[0m \u001b[38;5;66;03m#     \"SA.\": [sa_time, sa_score],\u001b[39;00m\n\u001b[0;32m     17\u001b[0m \u001b[38;5;66;03m#     # \"GA.\": [ga_time, ga_score]\u001b[39;00m\n\u001b[0;32m     18\u001b[0m \u001b[38;5;66;03m# }\u001b[39;00m\n\u001b[0;32m     20\u001b[0m \u001b[38;5;28mprint\u001b[39m(\u001b[38;5;124m\"\u001b[39m\u001b[38;5;130;01m\\n\u001b[39;00m\u001b[38;5;132;01m%20s\u001b[39;00m\u001b[38;5;124m    Time(s)   Value\u001b[39m\u001b[38;5;124m\"\u001b[39m \u001b[38;5;241m%\u001b[39m \u001b[38;5;124m\"\u001b[39m\u001b[38;5;124mAlgorithm\u001b[39m\u001b[38;5;124m\"\u001b[39m)\n",
      "Cell \u001b[1;32mIn[17], line 11\u001b[0m, in \u001b[0;36mtest_genetic_algorithm\u001b[1;34m(cities, graph, n_iters)\u001b[0m\n\u001b[0;32m      7\u001b[0m \u001b[38;5;28;01mfor\u001b[39;00m _ \u001b[38;5;129;01min\u001b[39;00m \u001b[38;5;28mrange\u001b[39m(n_iters):\n\u001b[0;32m      8\u001b[0m     start_time \u001b[38;5;241m=\u001b[39m time\u001b[38;5;241m.\u001b[39mperf_counter()\n\u001b[1;32m---> 11\u001b[0m     solution, solution_score \u001b[38;5;241m=\u001b[39m \u001b[43mgenetic_algorithm\u001b[49m\u001b[43m(\u001b[49m\u001b[43mcities\u001b[49m\u001b[38;5;241;43m=\u001b[39;49m\u001b[43m \u001b[49m\u001b[43mcities\u001b[49m\u001b[43m \u001b[49m\u001b[43m,\u001b[49m\u001b[43mgraph\u001b[49m\u001b[38;5;241;43m=\u001b[39;49m\u001b[43mgraph\u001b[49m\u001b[43m,\u001b[49m\u001b[43m \u001b[49m\u001b[43mpopulation_size\u001b[49m\u001b[38;5;241;43m=\u001b[39;49m\u001b[43m \u001b[49m\u001b[38;5;241;43m150\u001b[39;49m\u001b[43m,\u001b[49m\u001b[43m \u001b[49m\u001b[43mpercent\u001b[49m\u001b[38;5;241;43m=\u001b[39;49m\u001b[38;5;241;43m0.7\u001b[39;49m\u001b[43m,\u001b[49m\u001b[43m \u001b[49m\u001b[43mgeneration\u001b[49m\u001b[38;5;241;43m=\u001b[39;49m\u001b[38;5;241;43m200\u001b[39;49m\u001b[43m)\u001b[49m\n\u001b[0;32m     13\u001b[0m     end_time \u001b[38;5;241m=\u001b[39m time\u001b[38;5;241m.\u001b[39mperf_counter()\n\u001b[0;32m     15\u001b[0m     average_runtime \u001b[38;5;241m+\u001b[39m\u001b[38;5;241m=\u001b[39m end_time \u001b[38;5;241m-\u001b[39m start_time\n",
      "File \u001b[1;32mc:\\Users\\betse\\Desktop\\Academics\\AI Course\\Class Assignments\\AI-Search-Algorithms\\Assignment II\\TSP\\genetic_algorithm.py:64\u001b[0m, in \u001b[0;36mgenetic_algorithm\u001b[1;34m(cities, population_size, percent, generation, graph)\u001b[0m\n\u001b[0;32m     58\u001b[0m population \u001b[38;5;241m=\u001b[39m generate_population(cities, population_size)\n\u001b[0;32m     61\u001b[0m \u001b[38;5;28;01mfor\u001b[39;00m _ \u001b[38;5;129;01min\u001b[39;00m \u001b[38;5;28mrange\u001b[39m(generation):\n\u001b[1;32m---> 64\u001b[0m     population \u001b[38;5;241m=\u001b[39m \u001b[43msort_population\u001b[49m\u001b[43m(\u001b[49m\u001b[43mpopulation\u001b[49m\u001b[43m,\u001b[49m\u001b[43m \u001b[49m\u001b[43mgraph\u001b[49m\u001b[38;5;241;43m=\u001b[39;49m\u001b[43mgraph\u001b[49m\u001b[43m)\u001b[49m\n\u001b[0;32m     65\u001b[0m     amount \u001b[38;5;241m=\u001b[39m \u001b[38;5;28mint\u001b[39m(\u001b[38;5;28mlen\u001b[39m(population) \u001b[38;5;241m*\u001b[39m percent)\n\u001b[0;32m     66\u001b[0m     left \u001b[38;5;241m=\u001b[39m \u001b[38;5;28mlen\u001b[39m(population) \u001b[38;5;241m-\u001b[39m amount\n",
      "File \u001b[1;32mc:\\Users\\betse\\Desktop\\Academics\\AI Course\\Class Assignments\\AI-Search-Algorithms\\Assignment II\\TSP\\genetic_algorithm.py:22\u001b[0m, in \u001b[0;36msort_population\u001b[1;34m(population, graph)\u001b[0m\n\u001b[0;32m     21\u001b[0m \u001b[38;5;28;01mdef\u001b[39;00m \u001b[38;5;21msort_population\u001b[39m(population, graph):\n\u001b[1;32m---> 22\u001b[0m     \u001b[43mpopulation\u001b[49m\u001b[38;5;241;43m.\u001b[39;49m\u001b[43msort\u001b[49m\u001b[43m(\u001b[49m\u001b[43mkey\u001b[49m\u001b[38;5;241;43m=\u001b[39;49m\u001b[38;5;28;43;01mlambda\u001b[39;49;00m\u001b[43m \u001b[49m\u001b[43mi\u001b[49m\u001b[43m:\u001b[49m\u001b[43m \u001b[49m\u001b[43mutils\u001b[49m\u001b[38;5;241;43m.\u001b[39;49m\u001b[43mcalculate_cost\u001b[49m\u001b[43m(\u001b[49m\u001b[43mi\u001b[49m\u001b[43m,\u001b[49m\u001b[43m \u001b[49m\u001b[43mgraph\u001b[49m\u001b[38;5;241;43m=\u001b[39;49m\u001b[43mgraph\u001b[49m\u001b[43m)\u001b[49m\u001b[43m)\u001b[49m\n\u001b[0;32m     24\u001b[0m     \u001b[38;5;28;01mreturn\u001b[39;00m population\n",
      "File \u001b[1;32mc:\\Users\\betse\\Desktop\\Academics\\AI Course\\Class Assignments\\AI-Search-Algorithms\\Assignment II\\TSP\\genetic_algorithm.py:22\u001b[0m, in \u001b[0;36msort_population.<locals>.<lambda>\u001b[1;34m(i)\u001b[0m\n\u001b[0;32m     21\u001b[0m \u001b[38;5;28;01mdef\u001b[39;00m \u001b[38;5;21msort_population\u001b[39m(population, graph):\n\u001b[1;32m---> 22\u001b[0m     population\u001b[38;5;241m.\u001b[39msort(key\u001b[38;5;241m=\u001b[39m\u001b[38;5;28;01mlambda\u001b[39;00m i: \u001b[43mutils\u001b[49m\u001b[38;5;241;43m.\u001b[39;49m\u001b[43mcalculate_cost\u001b[49m\u001b[43m(\u001b[49m\u001b[43mi\u001b[49m\u001b[43m,\u001b[49m\u001b[43m \u001b[49m\u001b[43mgraph\u001b[49m\u001b[38;5;241;43m=\u001b[39;49m\u001b[43mgraph\u001b[49m\u001b[43m)\u001b[49m)\n\u001b[0;32m     24\u001b[0m     \u001b[38;5;28;01mreturn\u001b[39;00m population\n",
      "File \u001b[1;32mc:\\Users\\betse\\Desktop\\Academics\\AI Course\\Class Assignments\\AI-Search-Algorithms\\Assignment II\\TSP\\utils.py:83\u001b[0m, in \u001b[0;36mcalculate_cost\u001b[1;34m(chromosome, graph)\u001b[0m\n\u001b[0;32m     80\u001b[0m cost \u001b[38;5;241m+\u001b[39m\u001b[38;5;241m=\u001b[39m path_cost\n\u001b[0;32m     82\u001b[0m \u001b[38;5;28;01mfor\u001b[39;00m city \u001b[38;5;129;01min\u001b[39;00m path[\u001b[38;5;241m1\u001b[39m:]:\n\u001b[1;32m---> 83\u001b[0m     \u001b[38;5;28;01mif\u001b[39;00m city \u001b[38;5;129;01min\u001b[39;00m visited:\n\u001b[0;32m     84\u001b[0m         cost \u001b[38;5;241m+\u001b[39m\u001b[38;5;241m=\u001b[39m \u001b[38;5;241m1000\u001b[39m\n\u001b[0;32m     86\u001b[0m visited\u001b[38;5;241m.\u001b[39mupdate(path)\n",
      "\u001b[1;31mKeyboardInterrupt\u001b[0m: "
     ]
    }
   ],
   "source": [
    "result = test()"
   ]
  },
  {
   "cell_type": "code",
   "execution_count": null,
   "metadata": {},
   "outputs": [],
   "source": [
    "x = []\n",
    "y_times = []\n",
    "y_score = []\n",
    "\n",
    "fig = plt.subplots(figsize =(12, 4))\n",
    "for n_items, res in result.items():\n",
    "    algs = map(lambda a: f\"{a}({n_items})\", res.keys())\n",
    "    times = list(map(lambda x: x[0], res.values()))\n",
    "    score = list(map(lambda x: x[1], res.values()))\n",
    "\n",
    "    x.extend(algs)\n",
    "    y_times.extend(times)\n",
    "    y_score.extend(score)\n",
    "\n",
    "plt.xlabel(f\"Algorithms\")\n",
    "plt.ylabel(\"Time (s)\")\n",
    "plt.bar(x, y_times, width = 0.4)"
   ]
  },
  {
   "cell_type": "code",
   "execution_count": null,
   "metadata": {},
   "outputs": [],
   "source": [
    "fig = plt.subplots(figsize =(12, 4))\n",
    "plt.xlabel(f\"Algorithms\")\n",
    "plt.ylabel(\"Value ($)\")\n",
    "plt.bar(x, y_score, width = 0.4)"
   ]
  }
 ],
 "metadata": {
  "kernelspec": {
   "display_name": "Python 3",
   "language": "python",
   "name": "python3"
  },
  "language_info": {
   "codemirror_mode": {
    "name": "ipython",
    "version": 3
   },
   "file_extension": ".py",
   "mimetype": "text/x-python",
   "name": "python",
   "nbconvert_exporter": "python",
   "pygments_lexer": "ipython3",
   "version": "3.12.0"
  }
 },
 "nbformat": 4,
 "nbformat_minor": 2
}
