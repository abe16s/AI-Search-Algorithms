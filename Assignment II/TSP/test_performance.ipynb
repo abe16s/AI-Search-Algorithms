{
 "cells": [
  {
   "cell_type": "code",
   "execution_count": 7,
   "metadata": {},
   "outputs": [],
   "source": [
    "from genetic_algorithm import *\n",
    "from simulated_annealing import *\n",
    "\n",
    "\n",
    "import time\n",
    "import numpy as np\n",
    "import matplotlib.pyplot as plt\n",
    "\n",
    "import argparse\n",
    "from graph import UndirectedGraph\n",
    "from hill_climbing import hill_climbing\n",
    "from simulated_annealing import simulated_annealing\n",
    "from genetic_algorithm import genetic_algorithm\n",
    "import utils\n",
    "\n",
    "\n",
    "%matplotlib inline"
   ]
  },
  {
   "cell_type": "code",
   "execution_count": 6,
   "metadata": {},
   "outputs": [],
   "source": [
    "def cities_and_graph(file_name):\n",
    "    graph = UndirectedGraph()\n",
    "    with open(file_name) as file:\n",
    "        cities = set()\n",
    "        for line in file.readlines()[1:]:\n",
    "            city_1, city_2, distance = line.split(\"    \")\n",
    "\n",
    "            distance = int(distance)\n",
    "\n",
    "            graph.add_edge(city_1, city_2, distance)\n",
    "            cities.add(city_1)\n",
    "            cities.add(city_2)\n",
    "\n",
    "        cities = list(cities)\n",
    "\n",
    "        return cities, graph\n",
    "        \n",
    "\n"
   ]
  },
  {
   "cell_type": "code",
   "execution_count": 8,
   "metadata": {},
   "outputs": [],
   "source": [
    "def test_genetic_algorithm(cities, graph, n_iters=5):\n",
    "    best_solution = None\n",
    "    best_solution_score = float(\"inf\")\n",
    "\n",
    "    average_runtime = 0\n",
    "\n",
    "    for _ in range(n_iters):\n",
    "        start_time = time.perf_counter()\n",
    "\n",
    "\n",
    "        solution, solution_score = genetic_algorithm(cities= cities ,graph=graph, population_size= 150, percent=0.7, generation=100)\n",
    "\n",
    "        end_time = time.perf_counter()\n",
    "\n",
    "        average_runtime += end_time - start_time\n",
    "\n",
    "        \n",
    "        if solution_score < best_solution_score:\n",
    "            best_solution = solution\n",
    "            best_solution_score = solution_score\n",
    "\n",
    "    average_runtime /= n_iters\n",
    "\n",
    "    return average_runtime, best_solution, best_solution_score"
   ]
  },
  {
   "cell_type": "code",
   "execution_count": 10,
   "metadata": {},
   "outputs": [],
   "source": [
    "\n",
    "def test_simulated_annealing(cities, graph, generation, n_iters=5):\n",
    "    best_solution = None\n",
    "    best_solution_score = float(\"inf\")\n",
    "\n",
    "    average_runtime = 0\n",
    "\n",
    "    for _ in range(n_iters):\n",
    "        start_time = time.perf_counter()\n",
    "\n",
    "        solution, solution_score = simulated_annealing(cities, graph, generation)\n",
    "\n",
    "        end_time = time.perf_counter()\n",
    "\n",
    "        average_runtime += end_time - start_time\n",
    "\n",
    "        \n",
    "        if solution_score < best_solution_score:\n",
    "            best_solution = solution\n",
    "            best_solution_score = solution_score\n",
    "\n",
    "    average_runtime /= n_iters\n",
    "\n",
    "    return average_runtime, best_solution, best_solution_score\n"
   ]
  },
  {
   "cell_type": "code",
   "execution_count": 9,
   "metadata": {},
   "outputs": [],
   "source": [
    "def test_hill_climbing(cities, graph, n_iters = 5):\n",
    "    best_solution = None\n",
    "    best_solution_score = float(\"inf\")\n",
    "\n",
    "    average_runtime = 0\n",
    "\n",
    "    for _ in range(n_iters):\n",
    "        start_time = time.perf_counter()\n",
    "\n",
    "        solution, solution_score = hill_climbing(cities, graph, generation=100)\n",
    "\n",
    "        end_time = time.perf_counter()\n",
    "\n",
    "        average_runtime += end_time - start_time\n",
    "\n",
    "        if solution_score < best_solution_score:\n",
    "            best_solution = solution\n",
    "            best_solution_score = solution_score\n",
    "\n",
    "    average_runtime /= n_iters\n",
    "\n",
    "    return average_runtime, best_solution, best_solution_score"
   ]
  },
  {
   "cell_type": "code",
   "execution_count": 11,
   "metadata": {},
   "outputs": [],
   "source": [
    "\n",
    "def test():\n",
    "    filenames = [(\"8_romania.txt\", cities_and_graph(\"8_romania.txt\")), (\"16_romania.txt\", cities_and_graph(\"16_romania.txt\")), (\"20_romania.txt\", cities_and_graph(\"20_romania.txt\"))]\n",
    "\n",
    "    result = {} \n",
    "    \n",
    "    for filename, file in filenames:\n",
    "        print(f\"Running test on {filename}\")\n",
    "        cities, graph = file\n",
    "\n",
    "        hc_time, _, hc_score = test_hill_climbing(cities, graph)\n",
    "        sa_time, _, sa_score = test_simulated_annealing(cities, graph, 1000)\n",
    "        ga_time, _, ga_score = test_genetic_algorithm(cities, graph)\n",
    "\n",
    "        result[int(filename.split(\"_\")[0])] = {\n",
    "            \"HC.\": [hc_time, hc_score],\n",
    "            \"SA.\": [sa_time, sa_score],\n",
    "            \"GA.\": [ga_time, ga_score]\n",
    "        }\n",
    "\n",
    "        print(\"\\n%20s    Time(s)   Value\" % \"Algorithm\")\n",
    "        print(\"=============================================\")\n",
    "        print(\"%20s    %.2f s   %.2f miles\" % (\"Hill climbing\", hc_time, hc_score))\n",
    "        print(\"%20s    %.2f s   %.2f miles\" % (\"Simulated annealing\", sa_time, sa_score))\n",
    "        print(\"%20s    %.2f s   %.2f miles\" % (\"Genetic algorithm\", ga_time, ga_score))\n",
    "        print(\"\\n\")\n",
    "\n",
    "    return result\n"
   ]
  },
  {
   "cell_type": "code",
   "execution_count": 12,
   "metadata": {},
   "outputs": [
    {
     "name": "stdout",
     "output_type": "stream",
     "text": [
      "Running test on 8_romania.txt\n",
      "\n",
      "           Algorithm    Time(s)   Value\n",
      "=============================================\n",
      "       Hill climbing    0.08 s   714.00 miles\n",
      " Simulated annealing    0.00 s   720.00 miles\n",
      "   Genetic algorithm    0.33 s   1860.00 miles\n",
      "\n",
      "\n",
      "Running test on 16_romania.txt\n",
      "\n",
      "           Algorithm    Time(s)   Value\n",
      "=============================================\n",
      "       Hill climbing    0.57 s   1269.00 miles\n",
      " Simulated annealing    0.02 s   3539.00 miles\n",
      "   Genetic algorithm    1.00 s   2445.00 miles\n",
      "\n",
      "\n",
      "Running test on 20_romania.txt\n",
      "\n",
      "           Algorithm    Time(s)   Value\n",
      "=============================================\n",
      "       Hill climbing    1.58 s   3847.00 miles\n",
      " Simulated annealing    0.08 s   2804.00 miles\n",
      "   Genetic algorithm    1.54 s   9224.00 miles\n",
      "\n",
      "\n"
     ]
    }
   ],
   "source": [
    "result = test()"
   ]
  },
  {
   "cell_type": "code",
   "execution_count": 13,
   "metadata": {},
   "outputs": [
    {
     "data": {
      "text/plain": [
       "<BarContainer object of 9 artists>"
      ]
     },
     "execution_count": 13,
     "metadata": {},
     "output_type": "execute_result"
    },
    {
     "data": {
      "image/png": "[encoded data removed]",
      "text/plain": [
       "<Figure size 1200x400 with 1 Axes>"
      ]
     },
     "metadata": {},
     "output_type": "display_data"
    }
   ],
   "source": [
    "x = []\n",
    "y_times = []\n",
    "y_score = []\n",
    "\n",
    "fig = plt.subplots(figsize =(12, 4))\n",
    "for n_items, res in result.items():\n",
    "    algs = map(lambda a: f\"{a}({n_items})\", res.keys())\n",
    "    times = list(map(lambda x: x[0], res.values()))\n",
    "    score = list(map(lambda x: x[1], res.values()))\n",
    "\n",
    "    x.extend(algs)\n",
    "    y_times.extend(times)\n",
    "    y_score.extend(score)\n",
    "\n",
    "plt.xlabel(f\"Algorithms\")\n",
    "plt.ylabel(\"Time (s)\")\n",
    "plt.bar(x, y_times, width = 0.4)"
   ]
  },
  {
   "cell_type": "code",
   "execution_count": 14,
   "metadata": {},
   "outputs": [
    {
     "data": {
      "text/plain": [
       "<BarContainer object of 9 artists>"
      ]
     },
     "execution_count": 14,
     "metadata": {},
     "output_type": "execute_result"
    },
    {
     "data": {
      "image/png": "[encoded data removed]",
      "text/plain": [
       "<Figure size 1200x400 with 1 Axes>"
      ]
     },
     "metadata": {},
     "output_type": "display_data"
    }
   ],
   "source": [
    "fig = plt.subplots(figsize =(12, 4))\n",
    "plt.xlabel(f\"Algorithms\")\n",
    "plt.ylabel(\"Value ($)\")\n",
    "plt.bar(x, y_score, width = 0.4)"
   ]
  }
 ],
 "metadata": {
  "kernelspec": {
   "display_name": "Python 3",
   "language": "python",
   "name": "python3"
  },
  "language_info": {
   "codemirror_mode": {
    "name": "ipython",
    "version": 3
   },
   "file_extension": ".py",
   "mimetype": "text/x-python",
   "name": "python",
   "nbconvert_exporter": "python",
   "pygments_lexer": "ipython3",
   "version": "3.12.0"
  }
 },
 "nbformat": 4,
 "nbformat_minor": 2
}
