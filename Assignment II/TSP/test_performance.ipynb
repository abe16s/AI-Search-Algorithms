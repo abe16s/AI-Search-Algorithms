{
 "cells": [
  {
   "cell_type": "code",
   "execution_count": 2,
   "metadata": {},
   "outputs": [],
   "source": [
    "from genetic_algorithm import *\n",
    "\n",
    "import time\n",
    "import numpy as np\n",
    "import matplotlib.pyplot as plt\n",
    "\n",
    "%matplotlib inline"
   ]
  },
  {
   "cell_type": "code",
   "execution_count": null,
   "metadata": {},
   "outputs": [],
   "source": [
    "def test_genetic_algorithm(problem, max_capacity, n_iters=15):\n",
    "    best_solution = None\n",
    "    best_solution_score = float(\"-inf\")\n",
    "\n",
    "    average_runtime = 0\n",
    "\n",
    "    for _ in range(n_iters):\n",
    "        start_time = time.perf_counter()\n",
    "\n",
    "        initial_population = generate_population(problem[\"counts\"], population_size=200)\n",
    "\n",
    "        solution = genetic_algorithm(problem, initial_population, max_capacity)\n",
    "\n",
    "        end_time = time.perf_counter()\n",
    "\n",
    "        average_runtime += end_time - start_time\n",
    "\n",
    "        solution_score = calculate_fitness(\n",
    "            solution, problem[\"prices\"], problem[\"weights\"], max_capacity\n",
    "        )\n",
    "        if solution_score > best_solution_score:\n",
    "            best_solution = solution\n",
    "            best_solution_score = solution_score\n",
    "\n",
    "    average_runtime /= n_iters\n",
    "\n",
    "    return average_runtime, best_solution, best_solution_score"
   ]
  }
 ],
 "metadata": {
  "kernelspec": {
   "display_name": "Python 3",
   "language": "python",
   "name": "python3"
  },
  "language_info": {
   "codemirror_mode": {
    "name": "ipython",
    "version": 3
   },
   "file_extension": ".py",
   "mimetype": "text/x-python",
   "name": "python",
   "nbconvert_exporter": "python",
   "pygments_lexer": "ipython3",
   "version": "3.10.12"
  }
 },
 "nbformat": 4,
 "nbformat_minor": 2
}
